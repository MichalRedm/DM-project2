{
 "cells": [
  {
   "cell_type": "code",
   "execution_count": 34,
   "metadata": {},
   "outputs": [
    {
     "data": {
      "text/html": [
       "<div>\n",
       "<style scoped>\n",
       "    .dataframe tbody tr th:only-of-type {\n",
       "        vertical-align: middle;\n",
       "    }\n",
       "\n",
       "    .dataframe tbody tr th {\n",
       "        vertical-align: top;\n",
       "    }\n",
       "\n",
       "    .dataframe thead th {\n",
       "        text-align: right;\n",
       "    }\n",
       "</style>\n",
       "<table border=\"1\" class=\"dataframe\">\n",
       "  <thead>\n",
       "    <tr style=\"text-align: right;\">\n",
       "      <th></th>\n",
       "      <th></th>\n",
       "      <th>rating</th>\n",
       "    </tr>\n",
       "    <tr>\n",
       "      <th>userId</th>\n",
       "      <th>movieId</th>\n",
       "      <th></th>\n",
       "    </tr>\n",
       "  </thead>\n",
       "  <tbody>\n",
       "    <tr>\n",
       "      <th rowspan=\"5\" valign=\"top\">1</th>\n",
       "      <th>1</th>\n",
       "      <td>4.0</td>\n",
       "    </tr>\n",
       "    <tr>\n",
       "      <th>3</th>\n",
       "      <td>4.0</td>\n",
       "    </tr>\n",
       "    <tr>\n",
       "      <th>6</th>\n",
       "      <td>4.0</td>\n",
       "    </tr>\n",
       "    <tr>\n",
       "      <th>47</th>\n",
       "      <td>5.0</td>\n",
       "    </tr>\n",
       "    <tr>\n",
       "      <th>50</th>\n",
       "      <td>5.0</td>\n",
       "    </tr>\n",
       "  </tbody>\n",
       "</table>\n",
       "</div>"
      ],
      "text/plain": [
       "                rating\n",
       "userId movieId        \n",
       "1      1           4.0\n",
       "       3           4.0\n",
       "       6           4.0\n",
       "       47          5.0\n",
       "       50          5.0"
      ]
     },
     "execution_count": 34,
     "metadata": {},
     "output_type": "execute_result"
    }
   ],
   "source": [
    "import pandas as pd\n",
    "from dataset import MovieLensDataset\n",
    "from sklearn.decomposition import PCA\n",
    "from preprocessing import Preprocessing\n",
    "from sklearn.preprocessing import StandardScaler\n",
    "from sklearn.cluster import KMeans\n",
    "\n",
    "dataset = MovieLensDataset('ml-latest-small')\n",
    "preprocessing = Preprocessing(dataset)\n",
    "\n",
    "ratings = dataset.get_ratings().drop('timestamp', axis=1)\n",
    "ratings.head()"
   ]
  },
  {
   "cell_type": "code",
   "execution_count": 3,
   "metadata": {},
   "outputs": [
    {
     "data": {
      "text/html": [
       "<div>\n",
       "<style scoped>\n",
       "    .dataframe tbody tr th:only-of-type {\n",
       "        vertical-align: middle;\n",
       "    }\n",
       "\n",
       "    .dataframe tbody tr th {\n",
       "        vertical-align: top;\n",
       "    }\n",
       "\n",
       "    .dataframe thead th {\n",
       "        text-align: right;\n",
       "    }\n",
       "</style>\n",
       "<table border=\"1\" class=\"dataframe\">\n",
       "  <thead>\n",
       "    <tr style=\"text-align: right;\">\n",
       "      <th></th>\n",
       "      <th>title</th>\n",
       "      <th>genres</th>\n",
       "    </tr>\n",
       "    <tr>\n",
       "      <th>movieId</th>\n",
       "      <th></th>\n",
       "      <th></th>\n",
       "    </tr>\n",
       "  </thead>\n",
       "  <tbody>\n",
       "    <tr>\n",
       "      <th>1</th>\n",
       "      <td>Toy Story (1995)</td>\n",
       "      <td>Adventure|Animation|Children|Comedy|Fantasy</td>\n",
       "    </tr>\n",
       "    <tr>\n",
       "      <th>2</th>\n",
       "      <td>Jumanji (1995)</td>\n",
       "      <td>Adventure|Children|Fantasy</td>\n",
       "    </tr>\n",
       "    <tr>\n",
       "      <th>3</th>\n",
       "      <td>Grumpier Old Men (1995)</td>\n",
       "      <td>Comedy|Romance</td>\n",
       "    </tr>\n",
       "    <tr>\n",
       "      <th>4</th>\n",
       "      <td>Waiting to Exhale (1995)</td>\n",
       "      <td>Comedy|Drama|Romance</td>\n",
       "    </tr>\n",
       "    <tr>\n",
       "      <th>5</th>\n",
       "      <td>Father of the Bride Part II (1995)</td>\n",
       "      <td>Comedy</td>\n",
       "    </tr>\n",
       "  </tbody>\n",
       "</table>\n",
       "</div>"
      ],
      "text/plain": [
       "                                      title  \\\n",
       "movieId                                       \n",
       "1                          Toy Story (1995)   \n",
       "2                            Jumanji (1995)   \n",
       "3                   Grumpier Old Men (1995)   \n",
       "4                  Waiting to Exhale (1995)   \n",
       "5        Father of the Bride Part II (1995)   \n",
       "\n",
       "                                              genres  \n",
       "movieId                                               \n",
       "1        Adventure|Animation|Children|Comedy|Fantasy  \n",
       "2                         Adventure|Children|Fantasy  \n",
       "3                                     Comedy|Romance  \n",
       "4                               Comedy|Drama|Romance  \n",
       "5                                             Comedy  "
      ]
     },
     "execution_count": 3,
     "metadata": {},
     "output_type": "execute_result"
    }
   ],
   "source": [
    "movies = dataset.get_movies()\n",
    "movies.head()"
   ]
  },
  {
   "cell_type": "code",
   "execution_count": 11,
   "metadata": {},
   "outputs": [
    {
     "data": {
      "text/plain": [
       "Index([  1,   2,   3,   4,   5,   6,   7,   8,   9,  10,\n",
       "       ...\n",
       "       601, 602, 603, 604, 605, 606, 607, 608, 609, 610],\n",
       "      dtype='int64', name='userId', length=610)"
      ]
     },
     "execution_count": 11,
     "metadata": {},
     "output_type": "execute_result"
    }
   ],
   "source": [
    "ratings.index.get_level_values('userId').unique()"
   ]
  },
  {
   "cell_type": "code",
   "execution_count": 35,
   "metadata": {},
   "outputs": [
    {
     "data": {
      "text/plain": [
       "array([ 4,  0, 14,  1,  2,  1, 15,  8,  1, 15, 12, 12,  8,  1, 13, 16, 10,\n",
       "       16, 11,  2,  1,  5, 16,  8,  6, 15,  1, 15, 10, 17,  3,  8, 12,  1,\n",
       "        8, 11, 10, 15, 10, 12, 15,  1,  9, 15,  3,  4, 15,  4, 10, 13, 16,\n",
       "        6, 18, 11, 14, 12,  1,  3, 18,  8, 10, 10, 16, 12, 10, 12, 10, 15,\n",
       "       10,  0,  8, 10,  8, 16,  2, 14, 17, 11,  0,  6, 19,  1, 15, 12,  1,\n",
       "        3,  3, 10,  1,  0,  8,  3, 10, 15, 10, 16, 10, 16, 12, 12,  8,  1,\n",
       "       12,  2,  0, 17, 12, 12, 15,  0, 15,  8, 12, 15, 12,  1,  1, 12, 10,\n",
       "       13, 15,  4, 10, 12,  8,  1, 13, 18,  3, 13,  1, 15, 11,  1,  8, 15,\n",
       "        0,  2,  7,  1,  8,  3, 15,  2,  2, 15,  1,  3,  7,  8,  1,  0, 19,\n",
       "       17,  8, 16,  1,  1,  1,  7,  9, 12, 11, 10,  8, 10,  1, 18,  3, 15,\n",
       "        4,  8,  1,  8,  2, 10,  1, 10, 12,  8, 11,  1, 12,  0,  1,  4, 16,\n",
       "       18, 10,  3,  0, 10,  8, 13,  1,  8,  8,  1,  1, 16,  3, 12, 10, 16,\n",
       "        0,  3, 13, 15,  6, 17, 10,  1,  8, 11, 12, 16, 11, 15, 15,  3, 18,\n",
       "       15,  1,  3,  8,  1, 10,  8,  8, 13,  8, 15, 15,  8,  8, 12,  1, 16,\n",
       "       10, 12, 12, 16, 10, 12,  5,  4,  8,  8,  8,  3,  6,  9,  0,  0, 14,\n",
       "        8, 15,  3, 15,  8, 10, 15, 12,  1,  1,  1, 10,  1,  2,  2, 15,  8,\n",
       "        3, 15,  0,  4,  8,  0,  8, 12, 15,  3,  1,  8, 16, 16, 11, 15,  1,\n",
       "       12, 17,  1, 11, 11, 16, 18,  7, 19,  1, 10, 15,  8,  8,  8, 12,  1,\n",
       "       11, 19, 12,  1, 19, 12,  1, 15, 15, 13, 16,  0,  9,  8,  8,  1, 15,\n",
       "       15,  1,  0, 12, 15, 11,  8, 16,  1, 13,  1, 10, 10, 10,  5,  0, 10,\n",
       "        8, 11,  0,  3, 12, 16,  2,  6, 12, 15,  1,  8,  1, 16, 12, 12,  0,\n",
       "        5,  1, 16, 15, 10, 15,  4, 11, 10,  3, 11,  1,  1,  4,  1, 15, 16,\n",
       "       16, 10,  8,  3,  1,  8,  1,  8, 12, 15,  1,  7, 15,  9, 10,  3, 16,\n",
       "       15, 17, 13, 13,  2, 12,  9,  3,  6,  8,  8, 16,  1, 16, 13, 10, 10,\n",
       "       12, 16,  1,  0, 10,  1, 16, 13,  6, 15,  0, 12, 12,  1, 12, 16,  1,\n",
       "        2, 15, 11,  3, 16, 11,  8,  8,  8, 10, 15, 12,  1,  3, 16,  4, 19,\n",
       "        3, 16, 12, 15, 12, 11, 15, 12, 16,  6,  3, 16,  1,  8,  1, 10,  4,\n",
       "        4,  7, 15,  8, 16, 18,  3, 15,  2, 16,  1,  3, 10,  1,  1, 17,  2,\n",
       "        8, 11, 15, 15, 15,  8,  8,  2, 10, 10, 15,  3, 15, 15,  3,  8, 12,\n",
       "       10, 12,  1,  1,  3, 12,  1, 13,  1,  1, 12,  4, 15, 15, 14, 15, 11,\n",
       "       10, 16, 12,  1,  6,  8, 19,  8, 10,  8,  1,  8,  9,  1,  1, 12,  4,\n",
       "        1,  1, 12,  8, 10,  4,  8, 11,  1,  0,  9,  9, 10,  1,  2,  4,  0,\n",
       "        1,  1, 16, 10, 16, 17,  8, 15,  0,  3,  1, 17,  8,  3,  1,  1, 15,\n",
       "       16,  1,  1, 12,  1, 19, 12, 10,  1,  7, 12,  4,  3,  5, 15,  1, 12,\n",
       "        3,  8,  4, 17,  1,  3,  0, 17, 12, 15,  0,  1,  1,  8, 15,  3,  3,\n",
       "        1, 12, 13, 11, 15,  4,  1,  1,  1, 13,  1, 16, 13,  1,  8])"
      ]
     },
     "execution_count": 35,
     "metadata": {},
     "output_type": "execute_result"
    }
   ],
   "source": [
    "mean_rating = ratings['rating'].mean()\n",
    "users = ratings.join(preprocessing.movies_ohe()).apply(lambda row: (row * row['rating']).replace(0, mean_rating), axis=1).drop('rating', axis=1).groupby(level=0).mean()\n",
    "users = pd.DataFrame(StandardScaler().fit_transform(users), columns=users.columns)\n",
    "users = pd.DataFrame(PCA(5).fit_transform(users))\n",
    "kmeans = KMeans(20)\n",
    "kmeans.fit(users)\n",
    "kmeans.labels_"
   ]
  },
  {
   "cell_type": "code",
   "execution_count": null,
   "metadata": {},
   "outputs": [],
   "source": []
  }
 ],
 "metadata": {
  "kernelspec": {
   "display_name": ".venv",
   "language": "python",
   "name": "python3"
  },
  "language_info": {
   "codemirror_mode": {
    "name": "ipython",
    "version": 3
   },
   "file_extension": ".py",
   "mimetype": "text/x-python",
   "name": "python",
   "nbconvert_exporter": "python",
   "pygments_lexer": "ipython3",
   "version": "3.10.11"
  }
 },
 "nbformat": 4,
 "nbformat_minor": 2
}
